{
  "nbformat": 4,
  "nbformat_minor": 0,
  "metadata": {
    "colab": {
      "provenance": [],
      "gpuType": "T4",
      "include_colab_link": true
    },
    "kernelspec": {
      "name": "python3",
      "display_name": "Python 3"
    },
    "language_info": {
      "name": "python"
    },
    "accelerator": "GPU",
    "gpuClass": "standard"
  },
  "cells": [
    {
      "cell_type": "markdown",
      "metadata": {
        "id": "view-in-github",
        "colab_type": "text"
      },
      "source": [
        "<a href=\"https://colab.research.google.com/github/mikosa01/TEAMNOLT/blob/main/changes_after_feedback.ipynb\" target=\"_parent\"><img src=\"https://colab.research.google.com/assets/colab-badge.svg\" alt=\"Open In Colab\"/></a>"
      ]
    },
    {
      "cell_type": "code",
      "execution_count": null,
      "metadata": {
        "id": "v6AX6CxhnGNC"
      },
      "outputs": [],
      "source": [
        "# Code to read csv file into colaboratory:\n",
        "!pip install -U -q PyDrive\n",
        "from pydrive.auth import GoogleAuth\n",
        "from pydrive.drive import GoogleDrive\n",
        "from google.colab import auth\n",
        "from oauth2client.client import GoogleCredentials\n",
        "import numpy as np \n",
        "from pathlib import Path\n",
        "import sys \n",
        "import tensorflow as tf\n",
        "import pandas as pd \n",
        "import matplotlib.pyplot  as plt \n",
        "import zipfile\n",
        "import numpy as np\n",
        "import matplotlib.pyplot as plt\n",
        "import os\n",
        "#from sklearn.metrics import confusion_matrix, classification_report\n",
        "auth.authenticate_user()\n",
        "gauth = GoogleAuth()\n",
        "gauth.credentials = GoogleCredentials.get_application_default()\n",
        "drive = GoogleDrive(gauth)\n",
        "downloaded = drive.CreateFile({'id':'1c06v0ViaOvssxGV14zbggB72NcvFR6AE'})\n",
        "downloaded.GetContentFile('Group_Project_Data.zip')"
      ]
    },
    {
      "cell_type": "code",
      "source": [
        "import tensorflow as tf\n",
        "from tensorflow.keras.preprocessing.image import ImageDataGenerator"
      ],
      "metadata": {
        "id": "phLndkndofRh"
      },
      "execution_count": null,
      "outputs": []
    },
    {
      "cell_type": "code",
      "source": [
        "zip_files = ['Train', 'Valid']\n",
        "for zip_file in zip_files:\n",
        "  with zipfile.ZipFile('Group_Project_Data.zip'.format(zip_file), 'r') as z: \n",
        "    z.extractall('.')\n",
        "    print('{} unzipped'.format(zip_file))"
      ],
      "metadata": {
        "colab": {
          "base_uri": "https://localhost:8080/"
        },
        "id": "h0hT2VSIoico",
        "outputId": "f0a39355-38df-4e6f-f4d0-74998e8d81f0"
      },
      "execution_count": null,
      "outputs": [
        {
          "output_type": "stream",
          "name": "stdout",
          "text": [
            "Train unzipped\n",
            "Valid unzipped\n"
          ]
        }
      ]
    },
    {
      "cell_type": "code",
      "source": [
        "train_dir =  '/content/Group_Project_Data/Train'\n",
        "val_dir =  '/content/Group_Project_Data/Valid'"
      ],
      "metadata": {
        "id": "3KJZpJ-0oqe_"
      },
      "execution_count": null,
      "outputs": []
    },
    {
      "cell_type": "code",
      "source": [
        "train_datagen = ImageDataGenerator(rescale=1./255)  # rescale pixel values to [0, 1]\n",
        "val_datagen = ImageDataGenerator(rescale=1./255)"
      ],
      "metadata": {
        "id": "fppaIWrUo6Y4"
      },
      "execution_count": null,
      "outputs": []
    },
    {
      "cell_type": "code",
      "source": [
        "train_generator = train_datagen.flow_from_directory(\n",
        "    train_dir,\n",
        "    target_size=(64, 64),  \n",
        "    batch_size=32,\n",
        "    color_mode='grayscale',\n",
        "    class_mode='binary'  \n",
        ")\n",
        "\n",
        "val_generator = val_datagen.flow_from_directory(\n",
        "    val_dir,\n",
        "    target_size=(64, 64),\n",
        "    batch_size=32,\n",
        "    color_mode='grayscale',\n",
        "    class_mode='binary'\n",
        ")"
      ],
      "metadata": {
        "colab": {
          "base_uri": "https://localhost:8080/"
        },
        "id": "ZoflGdH0pCFQ",
        "outputId": "a729321c-fc4d-4964-b18c-d7b6a64c059a"
      },
      "execution_count": null,
      "outputs": [
        {
          "output_type": "stream",
          "name": "stdout",
          "text": [
            "Found 6000 images belonging to 2 classes.\n",
            "Found 2000 images belonging to 2 classes.\n"
          ]
        }
      ]
    },
    {
      "cell_type": "code",
      "source": [
        "from keras import regularizers\n",
        "\n",
        "\n",
        "model = tf.keras.models.Sequential([\n",
        "    tf.keras.layers.Conv2D(32, (3, 3), activation='relu', padding = 'valid', kernel_initializer='he_normal',  input_shape=(64, 64, 1)),\n",
        "    tf.keras.layers.MaxPooling2D((2, 2)),\n",
        "    tf.keras.layers.Conv2D(32, (3, 3), activation='relu', padding = 'same',kernel_regularizer=regularizers.l2(l=0.01)), \n",
        "    tf.keras.layers.MaxPooling2D((2, 2), ),\n",
        "    tf.keras.layers.Conv2D(32, (3, 3), activation='relu', padding = 'same',kernel_regularizer=regularizers.l2(l=0.01)), \n",
        "    tf.keras.layers.MaxPooling2D((2, 2)),\n",
        "    tf.keras.layers.Conv2D(32, (3, 3), activation='relu', padding = 'same', kernel_regularizer=regularizers.l2(l=0.01)), \n",
        "    tf.keras.layers.MaxPooling2D((2, 2)),\n",
        "    tf.keras.layers.Conv2D(32, (3, 3), activation='relu', padding = 'same', kernel_regularizer=regularizers.l2(l=0.01)), \n",
        "    tf.keras.layers.MaxPooling2D((2, 2)),\n",
        "    tf.keras.layers.GlobalAveragePooling2D(),\n",
        "    tf.keras.layers.Dropout(0.4),  \n",
        "    tf.keras.layers.Flatten(),\n",
        "    tf.keras.layers.Dense(64, activation='relu'),\n",
        "    tf.keras.layers.Dropout(0.2),\n",
        "    tf.keras.layers.Dense(1, activation='sigmoid')\n",
        "])\n"
      ],
      "metadata": {
        "id": "MdSAjwKKpN9M"
      },
      "execution_count": null,
      "outputs": []
    },
    {
      "cell_type": "code",
      "source": [
        "model.compile(optimizer='adam',\n",
        "              loss='binary_crossentropy',\n",
        "              metrics=['accuracy'])"
      ],
      "metadata": {
        "id": "SAwS4HFEpe1t"
      },
      "execution_count": null,
      "outputs": []
    },
    {
      "cell_type": "code",
      "source": [
        "early_stopping = tf.keras.callbacks.EarlyStopping(patience = 2)"
      ],
      "metadata": {
        "id": "sAdJW5Ed0w4K"
      },
      "execution_count": null,
      "outputs": []
    },
    {
      "cell_type": "code",
      "source": [
        "history= model.fit(train_generator, epochs=10, validation_data=val_generator, verbose = 2, callbacks = [early_stopping])"
      ],
      "metadata": {
        "colab": {
          "base_uri": "https://localhost:8080/"
        },
        "id": "MznaNbM9pfpp",
        "outputId": "b851a40d-8b6f-4137-83bc-ad87b779b958"
      },
      "execution_count": null,
      "outputs": [
        {
          "output_type": "stream",
          "name": "stdout",
          "text": [
            "Epoch 1/10\n",
            "188/188 - 7s - loss: 0.7913 - accuracy: 0.7128 - val_loss: 0.1461 - val_accuracy: 0.9955 - 7s/epoch - 36ms/step\n",
            "Epoch 2/10\n",
            "188/188 - 5s - loss: 0.1468 - accuracy: 0.9900 - val_loss: 0.0983 - val_accuracy: 0.9970 - 5s/epoch - 26ms/step\n",
            "Epoch 3/10\n",
            "188/188 - 4s - loss: 0.1006 - accuracy: 0.9950 - val_loss: 0.1211 - val_accuracy: 0.9820 - 4s/epoch - 21ms/step\n",
            "Epoch 4/10\n",
            "188/188 - 4s - loss: 0.0968 - accuracy: 0.9905 - val_loss: 0.0967 - val_accuracy: 0.9945 - 4s/epoch - 21ms/step\n",
            "Epoch 5/10\n",
            "188/188 - 5s - loss: 0.0770 - accuracy: 0.9965 - val_loss: 0.0593 - val_accuracy: 0.9980 - 5s/epoch - 26ms/step\n",
            "Epoch 6/10\n",
            "188/188 - 4s - loss: 0.0645 - accuracy: 0.9963 - val_loss: 0.0510 - val_accuracy: 0.9990 - 4s/epoch - 21ms/step\n",
            "Epoch 7/10\n",
            "188/188 - 4s - loss: 0.0607 - accuracy: 0.9960 - val_loss: 0.1515 - val_accuracy: 0.9710 - 4s/epoch - 21ms/step\n",
            "Epoch 8/10\n",
            "188/188 - 5s - loss: 0.0550 - accuracy: 0.9973 - val_loss: 0.0485 - val_accuracy: 0.9965 - 5s/epoch - 26ms/step\n",
            "Epoch 9/10\n",
            "188/188 - 4s - loss: 0.0455 - accuracy: 0.9980 - val_loss: 0.0459 - val_accuracy: 0.9980 - 4s/epoch - 23ms/step\n",
            "Epoch 10/10\n",
            "188/188 - 4s - loss: 0.0476 - accuracy: 0.9972 - val_loss: 0.0404 - val_accuracy: 0.9985 - 4s/epoch - 21ms/step\n"
          ]
        }
      ]
    }
  ]
}