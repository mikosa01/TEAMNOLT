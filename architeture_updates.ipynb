{
  "cells": [
    {
      "cell_type": "markdown",
      "metadata": {
        "id": "view-in-github",
        "colab_type": "text"
      },
      "source": [
        "<a href=\"https://colab.research.google.com/github/mikosa01/TEAMNOLT/blob/main/architeture_updates.ipynb\" target=\"_parent\"><img src=\"https://colab.research.google.com/assets/colab-badge.svg\" alt=\"Open In Colab\"/></a>"
      ]
    },
    {
      "cell_type": "code",
      "execution_count": null,
      "metadata": {
        "id": "v6AX6CxhnGNC"
      },
      "outputs": [],
      "source": [
        "# Code to read csv file into colaboratory:\n",
        "!pip install -U -q PyDrive\n",
        "from pydrive.auth import GoogleAuth\n",
        "from pydrive.drive import GoogleDrive\n",
        "from google.colab import auth\n",
        "from oauth2client.client import GoogleCredentials\n",
        "import numpy as np \n",
        "from pathlib import Path\n",
        "import sys \n",
        "import tensorflow as tf\n",
        "import pandas as pd \n",
        "import matplotlib.pyplot  as plt \n",
        "import zipfile\n",
        "import numpy as np\n",
        "import matplotlib.pyplot as plt\n",
        "import os\n",
        "import cv2\n",
        "auth.authenticate_user()\n",
        "gauth = GoogleAuth()\n",
        "gauth.credentials = GoogleCredentials.get_application_default()\n",
        "drive = GoogleDrive(gauth)\n",
        "downloaded = drive.CreateFile({'id':'1c06v0ViaOvssxGV14zbggB72NcvFR6AE'}) # replace the id with id of file you want to access\n",
        "downloaded.GetContentFile('Group_Project_Data.zip') "
      ]
    },
    {
      "cell_type": "code",
      "execution_count": null,
      "metadata": {
        "id": "phLndkndofRh"
      },
      "outputs": [],
      "source": [
        "import tensorflow as tf\n",
        "from tensorflow.keras.preprocessing.image import ImageDataGenerator"
      ]
    },
    {
      "cell_type": "code",
      "execution_count": null,
      "metadata": {
        "colab": {
          "base_uri": "https://localhost:8080/"
        },
        "id": "h0hT2VSIoico",
        "outputId": "37d5571e-d404-4a05-e403-90de2dd36717"
      },
      "outputs": [
        {
          "output_type": "stream",
          "name": "stdout",
          "text": [
            "Train unzipped\n",
            "Valid unzipped\n"
          ]
        }
      ],
      "source": [
        "zip_files = ['Train', 'Valid']\n",
        "for zip_file in zip_files:\n",
        "  with zipfile.ZipFile('Group_Project_Data.zip'.format(zip_file), 'r') as z: \n",
        "    z.extractall('.')\n",
        "    print('{} unzipped'.format(zip_file))"
      ]
    },
    {
      "cell_type": "code",
      "execution_count": null,
      "metadata": {
        "id": "3KJZpJ-0oqe_"
      },
      "outputs": [],
      "source": [
        "train_dir =  '/content/Group_Project_Data/Train'\n",
        "val_dir =  '/content/Group_Project_Data/Valid'"
      ]
    },
    {
      "cell_type": "code",
      "execution_count": null,
      "metadata": {
        "id": "fppaIWrUo6Y4"
      },
      "outputs": [],
      "source": [
        "train_datagen = ImageDataGenerator(rescale=1./255) # rescale pixel values to [0, 1]\n",
        "val_datagen = ImageDataGenerator(rescale=1./255)"
      ]
    },
    {
      "cell_type": "code",
      "execution_count": null,
      "metadata": {
        "colab": {
          "base_uri": "https://localhost:8080/"
        },
        "id": "ZoflGdH0pCFQ",
        "outputId": "2d5965d0-ddcc-4f44-ccb3-756c43716b4c"
      },
      "outputs": [
        {
          "output_type": "stream",
          "name": "stdout",
          "text": [
            "Found 6000 images belonging to 2 classes.\n",
            "Found 2000 images belonging to 2 classes.\n"
          ]
        }
      ],
      "source": [
        "train_generator = train_datagen.flow_from_directory(\n",
        "    train_dir,\n",
        "    target_size=(224, 224),  # resize images to 224x224 pixels\n",
        "    batch_size=32,\n",
        "    class_mode='categorical'  # for multi-class classification\n",
        ")\n",
        "\n",
        "val_generator = val_datagen.flow_from_directory(\n",
        "    val_dir,\n",
        "    target_size=(224, 224),\n",
        "    batch_size=32,\n",
        "    class_mode='categorical'\n",
        ")"
      ]
    },
    {
      "cell_type": "markdown",
      "source": [
        "1st Architeture"
      ],
      "metadata": {
        "id": "qOrNMeRKGm4c"
      }
    },
    {
      "cell_type": "code",
      "execution_count": null,
      "metadata": {
        "id": "MdSAjwKKpN9M"
      },
      "outputs": [],
      "source": [
        "# model = tf.keras.models.Sequential([\n",
        "#     tf.keras.layers.Conv2D(32, (3, 3), activation='relu', input_shape=(224, 224, 3)),\n",
        "#     tf.keras.layers.MaxPooling2D((2, 2)),\n",
        "#     tf.keras.layers.Flatten(),\n",
        "#     tf.keras.layers.Dense(64, activation='relu'),\n",
        "#     tf.keras.layers.Dense(2, activation='softmax')\n",
        "# ])"
      ]
    },
    {
      "cell_type": "code",
      "execution_count": null,
      "metadata": {
        "id": "SAwS4HFEpe1t"
      },
      "outputs": [],
      "source": [
        "# model.compile(optimizer='adam',\n",
        "#               loss='categorical_crossentropy',\n",
        "#               metrics=['accuracy'])"
      ]
    },
    {
      "cell_type": "code",
      "execution_count": null,
      "metadata": {
        "colab": {
          "base_uri": "https://localhost:8080/"
        },
        "id": "MznaNbM9pfpp",
        "outputId": "87a8530b-d0a1-4093-e4c4-d34a89946147"
      },
      "outputs": [
        {
          "output_type": "stream",
          "name": "stdout",
          "text": [
            "Epoch 1/10\n",
            "188/188 [==============================] - 26s 70ms/step - loss: 0.2057 - accuracy: 0.9475 - val_loss: 0.0056 - val_accuracy: 0.9990\n",
            "Epoch 2/10\n",
            "188/188 [==============================] - 14s 75ms/step - loss: 0.0068 - accuracy: 0.9988 - val_loss: 0.0074 - val_accuracy: 0.9965\n",
            "Epoch 3/10\n",
            "188/188 [==============================] - 12s 62ms/step - loss: 0.0057 - accuracy: 0.9985 - val_loss: 0.0081 - val_accuracy: 0.9975\n",
            "Epoch 4/10\n",
            "188/188 [==============================] - 12s 62ms/step - loss: 0.0101 - accuracy: 0.9972 - val_loss: 0.0046 - val_accuracy: 0.9990\n",
            "Epoch 5/10\n",
            "188/188 [==============================] - 13s 67ms/step - loss: 0.0017 - accuracy: 0.9997 - val_loss: 0.0033 - val_accuracy: 0.9990\n",
            "Epoch 6/10\n",
            "188/188 [==============================] - 12s 62ms/step - loss: 4.6956e-04 - accuracy: 1.0000 - val_loss: 0.0023 - val_accuracy: 0.9995\n",
            "Epoch 7/10\n",
            "188/188 [==============================] - 12s 65ms/step - loss: 0.0074 - accuracy: 0.9983 - val_loss: 0.0307 - val_accuracy: 0.9925\n",
            "Epoch 8/10\n",
            "188/188 [==============================] - 13s 71ms/step - loss: 0.0104 - accuracy: 0.9983 - val_loss: 0.0851 - val_accuracy: 0.9765\n",
            "Epoch 9/10\n",
            "188/188 [==============================] - 11s 60ms/step - loss: 0.0156 - accuracy: 0.9955 - val_loss: 0.0276 - val_accuracy: 0.9895\n",
            "Epoch 10/10\n",
            "188/188 [==============================] - 11s 60ms/step - loss: 0.0025 - accuracy: 0.9993 - val_loss: 0.0166 - val_accuracy: 0.9975\n"
          ]
        }
      ],
      "source": [
        "# history = model.fit(train_generator, epochs=10, validation_data=val_generator)"
      ]
    },
    {
      "cell_type": "markdown",
      "source": [
        "2nd Architeture"
      ],
      "metadata": {
        "id": "pv3LwiqvX2Ha"
      }
    },
    {
      "cell_type": "code",
      "source": [
        "model = tf.keras.models.Sequential([\n",
        "    tf.keras.layers.Conv2D(32, (3, 3), activation='relu', input_shape=(224, 224, 3)),\n",
        "    tf.keras.layers.BatchNormalization(),\n",
        "    tf.keras.layers.MaxPooling2D((2, 2)),\n",
        "    tf.keras.layers.Dropout(0.25),\n",
        "    tf.keras.layers.Conv2D(64, (3, 3), activation='relu'),\n",
        "    tf.keras.layers.BatchNormalization(),\n",
        "    tf.keras.layers.MaxPooling2D((2, 2)),\n",
        "    tf.keras.layers.Dropout(0.25),\n",
        "    tf.keras.layers.Flatten(),\n",
        "    tf.keras.layers.Dense(128, activation='relu'),\n",
        "    tf.keras.layers.BatchNormalization(),\n",
        "    tf.keras.layers.Dropout(0.5),\n",
        "    tf.keras.layers.Dense(2, activation='softmax')\n",
        "])\n",
        "\n",
        "model.compile(optimizer='adam',\n",
        "              loss='categorical_crossentropy',\n",
        "              metrics=['accuracy'])\n",
        "\n",
        "train_datagen = ImageDataGenerator(\n",
        "    rescale=1./255,\n",
        "    rotation_range=20,\n",
        "    width_shift_range=0.2,\n",
        "    height_shift_range=0.2,\n",
        "    shear_range=0.2,\n",
        "    zoom_range=0.2,\n",
        "    horizontal_flip=True,\n",
        ")\n",
        "\n",
        "val_datagen = ImageDataGenerator(rescale=1./255)\n",
        "\n",
        "train_generator = train_datagen.flow_from_directory(\n",
        "    train_dir,\n",
        "    target_size=(224, 224),\n",
        "    batch_size=32,\n",
        "    class_mode='categorical'\n",
        ")\n",
        "\n",
        "val_generator = val_datagen.flow_from_directory(\n",
        "    val_dir,\n",
        "    target_size=(224, 224),\n",
        "    batch_size=32,\n",
        "    class_mode='categorical'\n",
        ")\n",
        "\n",
        "early_stop = tf.keras.callbacks.EarlyStopping(monitor='val_loss', patience=3)\n",
        "\n",
        "history = model.fit(\n",
        "    train_generator,\n",
        "    epochs=20,\n",
        "    validation_data=val_generator,\n",
        "    callbacks=[early_stop]\n",
        ")\n"
      ],
      "metadata": {
        "colab": {
          "base_uri": "https://localhost:8080/"
        },
        "id": "iaYEujt1YEML",
        "outputId": "fb2b7b14-59d8-403e-cce9-f5cd610327d9"
      },
      "execution_count": null,
      "outputs": [
        {
          "output_type": "stream",
          "name": "stdout",
          "text": [
            "Found 6000 images belonging to 2 classes.\n",
            "Found 2000 images belonging to 2 classes.\n",
            "Epoch 1/20\n",
            "188/188 [==============================] - 83s 417ms/step - loss: 0.2218 - accuracy: 0.9333 - val_loss: 1.2511 - val_accuracy: 0.5035\n",
            "Epoch 2/20\n",
            "188/188 [==============================] - 77s 411ms/step - loss: 0.0252 - accuracy: 0.9922 - val_loss: 6.8314 - val_accuracy: 0.5000\n",
            "Epoch 3/20\n",
            "188/188 [==============================] - 76s 406ms/step - loss: 0.0170 - accuracy: 0.9953 - val_loss: 0.8090 - val_accuracy: 0.5310\n",
            "Epoch 4/20\n",
            "188/188 [==============================] - 75s 400ms/step - loss: 0.0245 - accuracy: 0.9925 - val_loss: 0.0013 - val_accuracy: 0.9995\n",
            "Epoch 5/20\n",
            "188/188 [==============================] - 75s 397ms/step - loss: 0.0109 - accuracy: 0.9970 - val_loss: 0.0075 - val_accuracy: 0.9995\n",
            "Epoch 6/20\n",
            "188/188 [==============================] - 75s 399ms/step - loss: 0.0142 - accuracy: 0.9955 - val_loss: 0.0033 - val_accuracy: 0.9990\n",
            "Epoch 7/20\n",
            "188/188 [==============================] - 77s 408ms/step - loss: 0.0115 - accuracy: 0.9955 - val_loss: 0.0170 - val_accuracy: 0.9985\n"
          ]
        }
      ]
    },
    {
      "cell_type": "code",
      "source": [],
      "metadata": {
        "id": "xq2LB6IGYF4E"
      },
      "execution_count": null,
      "outputs": []
    }
  ],
  "metadata": {
    "accelerator": "GPU",
    "colab": {
      "provenance": [],
      "include_colab_link": true
    },
    "gpuClass": "standard",
    "kernelspec": {
      "display_name": "Python 3",
      "name": "python3"
    },
    "language_info": {
      "name": "python"
    }
  },
  "nbformat": 4,
  "nbformat_minor": 0
}