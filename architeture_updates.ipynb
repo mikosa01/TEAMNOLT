{
  "cells": [
    {
      "cell_type": "markdown",
      "metadata": {
        "id": "view-in-github",
        "colab_type": "text"
      },
      "source": [
        "<a href=\"https://colab.research.google.com/github/mikosa01/TEAMNOLT/blob/main/architeture_updates.ipynb\" target=\"_parent\"><img src=\"https://colab.research.google.com/assets/colab-badge.svg\" alt=\"Open In Colab\"/></a>"
      ]
    },
    {
      "cell_type": "code",
      "execution_count": 1,
      "metadata": {
        "id": "v6AX6CxhnGNC"
      },
      "outputs": [],
      "source": [
        "# Code to read csv file into colaboratory:\n",
        "!pip install -U -q PyDrive\n",
        "from pydrive.auth import GoogleAuth\n",
        "from pydrive.drive import GoogleDrive\n",
        "from google.colab import auth\n",
        "from oauth2client.client import GoogleCredentials\n",
        "import numpy as np \n",
        "from pathlib import Path\n",
        "import sys \n",
        "import tensorflow as tf\n",
        "import pandas as pd \n",
        "import matplotlib.pyplot  as plt \n",
        "import zipfile\n",
        "import numpy as np\n",
        "import matplotlib.pyplot as plt\n",
        "import os\n",
        "import cv2\n",
        "auth.authenticate_user()\n",
        "gauth = GoogleAuth()\n",
        "gauth.credentials = GoogleCredentials.get_application_default()\n",
        "drive = GoogleDrive(gauth)\n",
        "downloaded = drive.CreateFile({'id':'1c06v0ViaOvssxGV14zbggB72NcvFR6AE'}) # replace the id with id of file you want to access\n",
        "downloaded.GetContentFile('Group_Project_Data.zip') "
      ]
    },
    {
      "cell_type": "code",
      "execution_count": 2,
      "metadata": {
        "id": "phLndkndofRh"
      },
      "outputs": [],
      "source": [
        "import tensorflow as tf\n",
        "from tensorflow.keras.preprocessing.image import ImageDataGenerator"
      ]
    },
    {
      "cell_type": "code",
      "execution_count": 3,
      "metadata": {
        "colab": {
          "base_uri": "https://localhost:8080/"
        },
        "id": "h0hT2VSIoico",
        "outputId": "8bbe70b3-9382-4992-9e16-d620a12b1a2a"
      },
      "outputs": [
        {
          "output_type": "stream",
          "name": "stdout",
          "text": [
            "Train unzipped\n",
            "Valid unzipped\n"
          ]
        }
      ],
      "source": [
        "zip_files = ['Train', 'Valid']\n",
        "for zip_file in zip_files:\n",
        "  with zipfile.ZipFile('Group_Project_Data.zip'.format(zip_file), 'r') as z: \n",
        "    z.extractall('.')\n",
        "    print('{} unzipped'.format(zip_file))"
      ]
    },
    {
      "cell_type": "code",
      "execution_count": 4,
      "metadata": {
        "id": "3KJZpJ-0oqe_"
      },
      "outputs": [],
      "source": [
        "train_dir =  '/content/Group_Project_Data/Train'\n",
        "val_dir =  '/content/Group_Project_Data/Valid'"
      ]
    },
    {
      "cell_type": "code",
      "execution_count": 5,
      "metadata": {
        "id": "fppaIWrUo6Y4"
      },
      "outputs": [],
      "source": [
        "train_datagen = ImageDataGenerator(rescale=1./255) # rescale pixel values to [0, 1]\n",
        "val_datagen = ImageDataGenerator(rescale=1./255)"
      ]
    },
    {
      "cell_type": "code",
      "execution_count": 6,
      "metadata": {
        "colab": {
          "base_uri": "https://localhost:8080/"
        },
        "id": "ZoflGdH0pCFQ",
        "outputId": "7482bdb4-716c-4c6f-be3b-6092173ba6ea"
      },
      "outputs": [
        {
          "output_type": "stream",
          "name": "stdout",
          "text": [
            "Found 6000 images belonging to 2 classes.\n",
            "Found 2000 images belonging to 2 classes.\n"
          ]
        }
      ],
      "source": [
        "train_generator = train_datagen.flow_from_directory(\n",
        "    train_dir,\n",
        "    target_size=(224, 224),  # resize images to 224x224 pixels\n",
        "    batch_size=32,\n",
        "    class_mode='categorical'  # for multi-class classification\n",
        ")\n",
        "\n",
        "val_generator = val_datagen.flow_from_directory(\n",
        "    val_dir,\n",
        "    target_size=(224, 224),\n",
        "    batch_size=32,\n",
        "    class_mode='categorical'\n",
        ")"
      ]
    },
    {
      "cell_type": "markdown",
      "source": [
        "1st Architeture"
      ],
      "metadata": {
        "id": "qOrNMeRKGm4c"
      }
    },
    {
      "cell_type": "code",
      "execution_count": 7,
      "metadata": {
        "id": "MdSAjwKKpN9M"
      },
      "outputs": [],
      "source": [
        "# model = tf.keras.models.Sequential([\n",
        "#     tf.keras.layers.Conv2D(32, (3, 3), activation='relu', input_shape=(224, 224, 3)),\n",
        "#     tf.keras.layers.MaxPooling2D((2, 2)),\n",
        "#     tf.keras.layers.Flatten(),\n",
        "#     tf.keras.layers.Dense(64, activation='relu'),\n",
        "#     tf.keras.layers.Dense(2, activation='softmax')\n",
        "# ])"
      ]
    },
    {
      "cell_type": "markdown",
      "source": [
        "1st Model"
      ],
      "metadata": {
        "id": "7O3mfKE6eU8f"
      }
    },
    {
      "cell_type": "code",
      "execution_count": 8,
      "metadata": {
        "id": "SAwS4HFEpe1t"
      },
      "outputs": [],
      "source": [
        "# model.compile(optimizer='adam',\n",
        "#               loss='categorical_crossentropy',\n",
        "#               metrics=['accuracy'])"
      ]
    },
    {
      "cell_type": "code",
      "execution_count": 9,
      "metadata": {
        "id": "MznaNbM9pfpp"
      },
      "outputs": [],
      "source": [
        "# history = model.fit(train_generator, epochs=10, validation_data=val_generator)"
      ]
    },
    {
      "cell_type": "markdown",
      "source": [
        "2nd Architecture and model"
      ],
      "metadata": {
        "id": "pv3LwiqvX2Ha"
      }
    },
    {
      "cell_type": "code",
      "source": [
        "# model = tf.keras.models.Sequential([\n",
        "#     tf.keras.layers.Conv2D(32, (3, 3), activation='relu', input_shape=(224, 224, 3)),\n",
        "#     tf.keras.layers.BatchNormalization(),\n",
        "#     tf.keras.layers.MaxPooling2D((2, 2)),\n",
        "#     tf.keras.layers.Dropout(0.25),\n",
        "#     tf.keras.layers.Conv2D(64, (3, 3), activation='relu'),\n",
        "#     tf.keras.layers.BatchNormalization(),\n",
        "#     tf.keras.layers.MaxPooling2D((2, 2)),\n",
        "#     tf.keras.layers.Dropout(0.25),\n",
        "#     tf.keras.layers.Flatten(),\n",
        "#     tf.keras.layers.Dense(128, activation='relu'),\n",
        "#     tf.keras.layers.BatchNormalization(),\n",
        "#     tf.keras.layers.Dropout(0.5),\n",
        "#     tf.keras.layers.Dense(2, activation='softmax')\n",
        "# ])\n",
        "\n",
        "# model.compile(optimizer='adam',\n",
        "#               loss='categorical_crossentropy',\n",
        "#               metrics=['accuracy'])\n",
        "\n",
        "# train_datagen = ImageDataGenerator(\n",
        "#     rescale=1./255,\n",
        "#     rotation_range=20,\n",
        "#     width_shift_range=0.2,\n",
        "#     height_shift_range=0.2,\n",
        "#     shear_range=0.2,\n",
        "#     zoom_range=0.2,\n",
        "#     horizontal_flip=True,\n",
        "# )\n",
        "\n",
        "# val_datagen = ImageDataGenerator(rescale=1./255)\n",
        "\n",
        "# train_generator = train_datagen.flow_from_directory(\n",
        "#     train_dir,\n",
        "#     target_size=(224, 224),\n",
        "#     batch_size=32,\n",
        "#     class_mode='categorical'\n",
        "# )\n",
        "\n",
        "# val_generator = val_datagen.flow_from_directory(\n",
        "#     val_dir,\n",
        "#     target_size=(224, 224),\n",
        "#     batch_size=32,\n",
        "#     class_mode='categorical'\n",
        "# )\n",
        "\n",
        "# early_stop = tf.keras.callbacks.EarlyStopping(monitor='val_loss', patience=3)\n",
        "\n",
        "# history = model.fit(\n",
        "#     train_generator,\n",
        "#     epochs=20,\n",
        "#     validation_data=val_generator,\n",
        "#     callbacks=[early_stop]\n",
        "# )\n"
      ],
      "metadata": {
        "id": "iaYEujt1YEML"
      },
      "execution_count": 10,
      "outputs": []
    },
    {
      "cell_type": "markdown",
      "source": [
        "3rd Architecture and model"
      ],
      "metadata": {
        "id": "xq2LB6IGYF4E"
      }
    },
    {
      "cell_type": "code",
      "source": [
        "model = tf.keras.models.Sequential([\n",
        "    tf.keras.layers.Conv2D(32, (3, 3), activation='relu', input_shape=(224, 224, 3)),\n",
        "    tf.keras.layers.BatchNormalization(),\n",
        "    tf.keras.layers.MaxPooling2D((2, 2)),\n",
        "    tf.keras.layers.Dropout(0.2),\n",
        "    tf.keras.layers.Conv2D(64, (3, 3), activation='relu'),\n",
        "    tf.keras.layers.BatchNormalization(),\n",
        "    tf.keras.layers.MaxPooling2D((2, 2)),\n",
        "    tf.keras.layers.Dropout(0.2),\n",
        "    tf.keras.layers.Conv2D(128, (3, 3), activation='relu'),\n",
        "    tf.keras.layers.BatchNormalization(),\n",
        "    tf.keras.layers.MaxPooling2D((2, 2)),\n",
        "    tf.keras.layers.Dropout(0.2),\n",
        "    tf.keras.layers.Flatten(),\n",
        "    tf.keras.layers.Dense(256, activation='relu'),\n",
        "    tf.keras.layers.BatchNormalization(),\n",
        "    tf.keras.layers.Dropout(0.5),\n",
        "    tf.keras.layers.Dense(2, activation='softmax')\n",
        "])\n",
        "\n",
        "model.compile(optimizer=tf.keras.optimizers.Adam(lr=0.001),\n",
        "              loss='categorical_crossentropy',\n",
        "              metrics=['accuracy'])\n",
        "\n",
        "train_datagen = ImageDataGenerator(\n",
        "    rescale=1./255,\n",
        "    rotation_range=30,\n",
        "    width_shift_range=0.2,\n",
        "    height_shift_range=0.2,\n",
        "    shear_range=0.2,\n",
        "    zoom_range=0.2,\n",
        "    horizontal_flip=True,\n",
        ")\n",
        "\n",
        "val_datagen = ImageDataGenerator(rescale=1./255)\n",
        "\n",
        "train_generator = train_datagen.flow_from_directory(\n",
        "    train_dir,\n",
        "    target_size=(224, 224),\n",
        "    batch_size=32,\n",
        "    class_mode='categorical'\n",
        ")\n",
        "\n",
        "val_generator = val_datagen.flow_from_directory(\n",
        "    val_dir,\n",
        "    target_size=(224, 224),\n",
        "    batch_size=32,\n",
        "    class_mode='categorical'\n",
        ")\n",
        "\n",
        "early_stop = tf.keras.callbacks.EarlyStopping(monitor='val_loss', patience=5)\n",
        "\n",
        "history = model.fit(\n",
        "    train_generator,\n",
        "    epochs=50,\n",
        "    validation_data=val_generator,\n",
        "    callbacks=[early_stop]\n",
        ")\n"
      ],
      "metadata": {
        "colab": {
          "base_uri": "https://localhost:8080/"
        },
        "id": "G_Cgz1UGeZic",
        "outputId": "1acdffa0-05d6-4b22-c89a-bb435260f76e"
      },
      "execution_count": 11,
      "outputs": [
        {
          "output_type": "stream",
          "name": "stderr",
          "text": [
            "WARNING:absl:`lr` is deprecated in Keras optimizer, please use `learning_rate` or use the legacy optimizer, e.g.,tf.keras.optimizers.legacy.Adam.\n"
          ]
        },
        {
          "output_type": "stream",
          "name": "stdout",
          "text": [
            "Found 6000 images belonging to 2 classes.\n",
            "Found 2000 images belonging to 2 classes.\n",
            "Epoch 1/50\n",
            "188/188 [==============================] - 99s 438ms/step - loss: 0.0749 - accuracy: 0.9823 - val_loss: 15.8465 - val_accuracy: 0.5000\n",
            "Epoch 2/50\n",
            "188/188 [==============================] - 76s 402ms/step - loss: 0.0211 - accuracy: 0.9938 - val_loss: 4.9076 - val_accuracy: 0.6165\n",
            "Epoch 3/50\n",
            "188/188 [==============================] - 77s 408ms/step - loss: 0.0198 - accuracy: 0.9950 - val_loss: 0.6970 - val_accuracy: 0.7590\n",
            "Epoch 4/50\n",
            "188/188 [==============================] - 75s 401ms/step - loss: 0.0153 - accuracy: 0.9965 - val_loss: 7.6897 - val_accuracy: 0.5000\n",
            "Epoch 5/50\n",
            "188/188 [==============================] - 76s 404ms/step - loss: 0.0169 - accuracy: 0.9953 - val_loss: 0.0414 - val_accuracy: 0.9905\n",
            "Epoch 6/50\n",
            "188/188 [==============================] - 76s 403ms/step - loss: 0.0074 - accuracy: 0.9972 - val_loss: 3.0064 - val_accuracy: 0.5155\n",
            "Epoch 7/50\n",
            "188/188 [==============================] - 75s 401ms/step - loss: 0.0049 - accuracy: 0.9978 - val_loss: 0.0146 - val_accuracy: 0.9950\n",
            "Epoch 8/50\n",
            "188/188 [==============================] - 76s 403ms/step - loss: 0.0103 - accuracy: 0.9972 - val_loss: 5.1408e-04 - val_accuracy: 0.9995\n",
            "Epoch 9/50\n",
            "188/188 [==============================] - 76s 403ms/step - loss: 0.0025 - accuracy: 0.9990 - val_loss: 0.0043 - val_accuracy: 0.9990\n",
            "Epoch 10/50\n",
            "188/188 [==============================] - 75s 400ms/step - loss: 0.0067 - accuracy: 0.9978 - val_loss: 5.4077 - val_accuracy: 0.5000\n",
            "Epoch 11/50\n",
            "188/188 [==============================] - 75s 399ms/step - loss: 0.0087 - accuracy: 0.9977 - val_loss: 8.9664 - val_accuracy: 0.5000\n",
            "Epoch 12/50\n",
            "188/188 [==============================] - 75s 399ms/step - loss: 0.0299 - accuracy: 0.9912 - val_loss: 0.0035 - val_accuracy: 0.9990\n",
            "Epoch 13/50\n",
            "188/188 [==============================] - 76s 402ms/step - loss: 0.0069 - accuracy: 0.9973 - val_loss: 0.0193 - val_accuracy: 0.9980\n"
          ]
        }
      ]
    }
  ],
  "metadata": {
    "accelerator": "GPU",
    "colab": {
      "provenance": [],
      "include_colab_link": true
    },
    "gpuClass": "standard",
    "kernelspec": {
      "display_name": "Python 3",
      "name": "python3"
    },
    "language_info": {
      "name": "python"
    }
  },
  "nbformat": 4,
  "nbformat_minor": 0
}