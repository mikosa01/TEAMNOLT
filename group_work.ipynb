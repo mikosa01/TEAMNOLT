{
  "nbformat": 4,
  "nbformat_minor": 0,
  "metadata": {
    "colab": {
      "provenance": [],
      "gpuType": "T4",
      "include_colab_link": true
    },
    "kernelspec": {
      "name": "python3",
      "display_name": "Python 3"
    },
    "language_info": {
      "name": "python"
    },
    "accelerator": "GPU",
    "gpuClass": "standard"
  },
  "cells": [
    {
      "cell_type": "markdown",
      "metadata": {
        "id": "view-in-github",
        "colab_type": "text"
      },
      "source": [
        "<a href=\"https://colab.research.google.com/github/mikosa01/TEAMNOLT/blob/main/group_work.ipynb\" target=\"_parent\"><img src=\"https://colab.research.google.com/assets/colab-badge.svg\" alt=\"Open In Colab\"/></a>"
      ]
    },
    {
      "cell_type": "code",
      "execution_count": 1,
      "metadata": {
        "id": "v6AX6CxhnGNC"
      },
      "outputs": [],
      "source": [
        "# Importing necessary libraries and modules\n",
        "from pathlib import Path\n",
        "from pydrive.auth import GoogleAuth\n",
        "from pydrive.drive import GoogleDrive\n",
        "from google.colab import auth\n",
        "from oauth2client.client import GoogleCredentials\n",
        "from tensorflow.keras.preprocessing.image import ImageDataGenerator\n",
        "from keras import regularizers\n",
        "import zipfile\n",
        "import tensorflow as tf\n",
        "import matplotlib.pyplot as plt"
      ]
    },
    {
      "cell_type": "code",
      "source": [
        "# Authenticating user and get access credentials to Google Drive\n",
        "auth.authenticate_user()\n",
        "gauth = GoogleAuth()\n",
        "gauth.credentials = GoogleCredentials.get_application_default()\n",
        "drive = GoogleDrive(gauth)"
      ],
      "metadata": {
        "id": "jJ5ACzW6lmjz"
      },
      "execution_count": 2,
      "outputs": []
    },
    {
      "cell_type": "code",
      "source": [
        "# Downloading dataset zip file from Google Drive\n",
        "downloaded = drive.CreateFile({\"id\": \"1c06v0ViaOvssxGV14zbggB72NcvFR6AE\"})\n",
        "downloaded.GetContentFile(\"Group_Project_Data.zip\")"
      ],
      "metadata": {
        "id": "rbThqDNNltAL"
      },
      "execution_count": 3,
      "outputs": []
    },
    {
      "cell_type": "code",
      "source": [
        "# Extracting training and validation data from the zip file\n",
        "zip_files = [\"Train\", \"Valid\"]\n",
        "for zip_file in zip_files:\n",
        "    with zipfile.ZipFile(\"Group_Project_Data.zip\".format(zip_file), \"r\") as z:\n",
        "        z.extractall(\".\")\n",
        "        print(\"{} unzipped\".format(zip_file))"
      ],
      "metadata": {
        "id": "phLndkndofRh",
        "colab": {
          "base_uri": "https://localhost:8080/"
        },
        "outputId": "4c444d4c-9abe-4aff-ec55-0b35745b9742"
      },
      "execution_count": 4,
      "outputs": [
        {
          "output_type": "stream",
          "name": "stdout",
          "text": [
            "Train unzipped\n",
            "Valid unzipped\n"
          ]
        }
      ]
    },
    {
      "cell_type": "code",
      "source": [
        "# Defining the directories for training and validation data\n",
        "train_dir = \"/content/Group_Project_Data/Train\"\n",
        "val_dir = \"/content/Group_Project_Data/Valid\""
      ],
      "metadata": {
        "id": "h0hT2VSIoico"
      },
      "execution_count": 5,
      "outputs": []
    },
    {
      "cell_type": "code",
      "source": [
        "# Creating an image data generator with rescaling for training and validation data\n",
        "train_datagen = ImageDataGenerator(rescale=1.0 / 255)  # rescale pixel values to [0, 1]\n",
        "val_datagen = ImageDataGenerator(rescale=1.0 / 255)"
      ],
      "metadata": {
        "id": "3KJZpJ-0oqe_"
      },
      "execution_count": 6,
      "outputs": []
    },
    {
      "cell_type": "code",
      "source": [
        "# generate batches of augmented data for training and validation sets\n",
        "train_generator = train_datagen.flow_from_directory(\n",
        "    train_dir,\n",
        "    target_size=(64, 64),\n",
        "    batch_size=32,\n",
        "    color_mode=\"grayscale\",\n",
        "    class_mode=\"binary\",\n",
        ")\n",
        "\n",
        "val_generator = val_datagen.flow_from_directory(\n",
        "    val_dir,\n",
        "    target_size=(64, 64),\n",
        "    batch_size=32,\n",
        "    color_mode=\"grayscale\",\n",
        "    class_mode=\"binary\",\n",
        ")"
      ],
      "metadata": {
        "id": "fppaIWrUo6Y4",
        "colab": {
          "base_uri": "https://localhost:8080/"
        },
        "outputId": "71511117-bef0-4a8f-f67d-ee98286fbc9d"
      },
      "execution_count": 7,
      "outputs": [
        {
          "output_type": "stream",
          "name": "stdout",
          "text": [
            "Found 6000 images belonging to 2 classes.\n",
            "Found 2000 images belonging to 2 classes.\n"
          ]
        }
      ]
    },
    {
      "cell_type": "code",
      "source": [
        "train_generator = train_datagen.flow_from_directory(\n",
        "    train_dir,\n",
        "    target_size=(64, 64),  \n",
        "    batch_size=32,\n",
        "    color_mode='grayscale',\n",
        "    class_mode='binary'  \n",
        ")\n",
        "\n",
        "val_generator = val_datagen.flow_from_directory(\n",
        "    val_dir,\n",
        "    target_size=(64, 64),\n",
        "    batch_size=32,\n",
        "    color_mode='grayscale',\n",
        "    class_mode='binary'\n",
        ")"
      ],
      "metadata": {
        "colab": {
          "base_uri": "https://localhost:8080/"
        },
        "id": "ZoflGdH0pCFQ",
        "outputId": "43c084db-e168-4978-9075-070bec0e68b9"
      },
      "execution_count": 8,
      "outputs": [
        {
          "output_type": "stream",
          "name": "stdout",
          "text": [
            "Found 6000 images belonging to 2 classes.\n",
            "Found 2000 images belonging to 2 classes.\n"
          ]
        }
      ]
    },
    {
      "cell_type": "code",
      "source": [
        "# Creating the Sequential model\n",
        "model = tf.keras.models.Sequential(\n",
        "    [\n",
        "        tf.keras.layers.Conv2D(\n",
        "            32,\n",
        "            (3, 3),\n",
        "            activation=\"relu\",\n",
        "            padding=\"valid\",\n",
        "            kernel_initializer=\"he_normal\",\n",
        "            input_shape=(64, 64, 1),\n",
        "        ),\n",
        "        tf.keras.layers.MaxPooling2D((2, 2)),\n",
        "        tf.keras.layers.Conv2D(\n",
        "            32,\n",
        "            (3, 3),\n",
        "            activation=\"relu\",\n",
        "            padding=\"same\",\n",
        "            kernel_regularizer=regularizers.l2(l=0.01),\n",
        "        ),\n",
        "        tf.keras.layers.MaxPooling2D(\n",
        "            (2, 2),\n",
        "        ),\n",
        "        tf.keras.layers.Conv2D(\n",
        "            32,\n",
        "            (3, 3),\n",
        "            activation=\"relu\",\n",
        "            padding=\"same\",\n",
        "            kernel_regularizer=regularizers.l2(l=0.01),\n",
        "        ),\n",
        "        tf.keras.layers.MaxPooling2D((2, 2)),\n",
        "        tf.keras.layers.Conv2D(\n",
        "            32,\n",
        "            (3, 3),\n",
        "            activation=\"relu\",\n",
        "            padding=\"same\",\n",
        "            kernel_regularizer=regularizers.l2(l=0.01),\n",
        "        ),\n",
        "        tf.keras.layers.MaxPooling2D((2, 2)),\n",
        "        tf.keras.layers.Conv2D(\n",
        "            32,\n",
        "            (3, 3),\n",
        "            activation=\"relu\",\n",
        "            padding=\"same\",\n",
        "            kernel_regularizer=regularizers.l2(l=0.01),\n",
        "        ),\n",
        "        tf.keras.layers.MaxPooling2D((2, 2)),\n",
        "        tf.keras.layers.GlobalAveragePooling2D(),\n",
        "        tf.keras.layers.Dropout(0.4),\n",
        "        tf.keras.layers.Flatten(),\n",
        "        tf.keras.layers.Dense(64, activation=\"relu\"),\n",
        "        tf.keras.layers.Dropout(0.2),\n",
        "        tf.keras.layers.Dense(1, activation=\"sigmoid\"),\n",
        "    ]\n",
        ")"
      ],
      "metadata": {
        "id": "MdSAjwKKpN9M"
      },
      "execution_count": 9,
      "outputs": []
    },
    {
      "cell_type": "code",
      "source": [
        "# Compiling the model\n",
        "model.compile(optimizer=\"adam\", loss=\"binary_crossentropy\", metrics=[\"accuracy\"])"
      ],
      "metadata": {
        "id": "SAwS4HFEpe1t"
      },
      "execution_count": 10,
      "outputs": []
    },
    {
      "cell_type": "code",
      "source": [
        "# Defining early stopping to prevent overfitting\n",
        "early_stopping = tf.keras.callbacks.EarlyStopping(patience=2)"
      ],
      "metadata": {
        "id": "sAdJW5Ed0w4K"
      },
      "execution_count": 11,
      "outputs": []
    },
    {
      "cell_type": "code",
      "source": [
        "# Fitting the model to the training data\n",
        "history = model.fit(\n",
        "    train_generator,\n",
        "    epochs=10,\n",
        "    validation_data=val_generator,\n",
        "    verbose=2,\n",
        "    callbacks=[early_stopping]\n",
        ")"
      ],
      "metadata": {
        "colab": {
          "base_uri": "https://localhost:8080/"
        },
        "id": "MznaNbM9pfpp",
        "outputId": "5cdcf242-12fc-425e-f2a3-17a53b653bba"
      },
      "execution_count": 12,
      "outputs": [
        {
          "output_type": "stream",
          "name": "stdout",
          "text": [
            "Epoch 1/10\n",
            "188/188 - 10s - loss: 0.6518 - accuracy: 0.8160 - val_loss: 0.1720 - val_accuracy: 0.9890 - 10s/epoch - 54ms/step\n",
            "Epoch 2/10\n",
            "188/188 - 4s - loss: 0.1377 - accuracy: 0.9923 - val_loss: 0.1047 - val_accuracy: 0.9950 - 4s/epoch - 22ms/step\n",
            "Epoch 3/10\n",
            "188/188 - 4s - loss: 0.1205 - accuracy: 0.9907 - val_loss: 0.1104 - val_accuracy: 0.9900 - 4s/epoch - 19ms/step\n",
            "Epoch 4/10\n",
            "188/188 - 5s - loss: 0.0922 - accuracy: 0.9947 - val_loss: 0.0845 - val_accuracy: 0.9915 - 5s/epoch - 26ms/step\n",
            "Epoch 5/10\n",
            "188/188 - 4s - loss: 0.0722 - accuracy: 0.9962 - val_loss: 0.0554 - val_accuracy: 0.9995 - 4s/epoch - 19ms/step\n",
            "Epoch 6/10\n",
            "188/188 - 4s - loss: 0.0765 - accuracy: 0.9940 - val_loss: 0.1156 - val_accuracy: 0.9800 - 4s/epoch - 19ms/step\n",
            "Epoch 7/10\n",
            "188/188 - 5s - loss: 0.0658 - accuracy: 0.9965 - val_loss: 0.0524 - val_accuracy: 0.9980 - 5s/epoch - 24ms/step\n",
            "Epoch 8/10\n",
            "188/188 - 4s - loss: 0.0554 - accuracy: 0.9968 - val_loss: 0.0428 - val_accuracy: 0.9995 - 4s/epoch - 21ms/step\n",
            "Epoch 9/10\n",
            "188/188 - 4s - loss: 0.0451 - accuracy: 0.9987 - val_loss: 0.0386 - val_accuracy: 0.9985 - 4s/epoch - 21ms/step\n",
            "Epoch 10/10\n",
            "188/188 - 4s - loss: 0.0577 - accuracy: 0.9943 - val_loss: 0.0388 - val_accuracy: 0.9995 - 4s/epoch - 23ms/step\n"
          ]
        }
      ]
    },
    {
      "cell_type": "code",
      "source": [
        "# Plotting the model's accuracy during training\n",
        "plt.plot(history.history[\"accuracy\"])\n",
        "plt.plot(history.history[\"val_accuracy\"])\n",
        "plt.title(\"Model accuracy\")\n",
        "plt.ylabel(\"Accuracy\")\n",
        "plt.xlabel(\"Epoch\")\n",
        "plt.legend([\"Train\", \"Validation\"], loc=\"upper left\")\n",
        "plt.show()"
      ],
      "metadata": {
        "id": "iXkCnwIKpjG2",
        "colab": {
          "base_uri": "https://localhost:8080/",
          "height": 472
        },
        "outputId": "c75e2473-605d-4eb7-dea5-914ed830c8b6"
      },
      "execution_count": 13,
      "outputs": [
        {
          "output_type": "display_data",
          "data": {
            "text/plain": [
              "<Figure size 640x480 with 1 Axes>"
            ],
            "image/png": "[encoded data removed]"
          },
          "metadata": {}
        }
      ]
    },
    {
      "cell_type": "code",
      "source": [
        "# Plotting the model's loss during training\n",
        "plt.plot(history.history[\"loss\"])\n",
        "plt.plot(history.history[\"val_loss\"])\n",
        "plt.title(\"Model loss\")\n",
        "plt.ylabel(\"Loss\")\n",
        "plt.xlabel(\"Epoch\")\n",
        "plt.legend([\"Train\", \"Validation\"], loc=\"upper left\")\n",
        "plt.show()"
      ],
      "metadata": {
        "colab": {
          "base_uri": "https://localhost:8080/",
          "height": 472
        },
        "id": "jh7j4_F0Vaha",
        "outputId": "e7e9d98c-c571-485e-8fa7-ed810928a49d"
      },
      "execution_count": 14,
      "outputs": [
        {
          "output_type": "display_data",
          "data": {
            "text/plain": [
              "<Figure size 640x480 with 1 Axes>"
            ],
            "image/png": "[encoded data removed]"
          },
          "metadata": {}
        }
      ]
    },
    {
      "cell_type": "code",
      "source": [
        "# Saving the trained model\n",
        "model.save(\"/content/Team_NOLT_Model_Trained\")"
      ],
      "metadata": {
        "colab": {
          "base_uri": "https://localhost:8080/"
        },
        "id": "S5zEDf2Rl2pQ",
        "outputId": "614a1380-bb98-4070-ca3e-67bedcc2b00f"
      },
      "execution_count": 15,
      "outputs": [
        {
          "output_type": "stream",
          "name": "stderr",
          "text": [
            "WARNING:absl:Found untraced functions such as _jit_compiled_convolution_op, _jit_compiled_convolution_op, _jit_compiled_convolution_op, _jit_compiled_convolution_op, _jit_compiled_convolution_op while saving (showing 5 of 5). These functions will not be directly callable after loading.\n"
          ]
        }
      ]
    },
    {
      "cell_type": "code",
      "source": [
        "# Testing saved model\n",
        "loaded_model = tf.keras.models.load_model(\"/content/Team_NOLT_Model_Trained\")\n",
        "loaded_model.summary()"
      ],
      "metadata": {
        "id": "mpsUYRY23Ipp",
        "outputId": "2c8ba4ad-e485-4186-a422-8b4561421122",
        "colab": {
          "base_uri": "https://localhost:8080/"
        }
      },
      "execution_count": 16,
      "outputs": [
        {
          "output_type": "stream",
          "name": "stdout",
          "text": [
            "Model: \"sequential\"\n",
            "_________________________________________________________________\n",
            " Layer (type)                Output Shape              Param #   \n",
            "=================================================================\n",
            " conv2d (Conv2D)             (None, 62, 62, 32)        320       \n",
            "                                                                 \n",
            " max_pooling2d (MaxPooling2D  (None, 31, 31, 32)       0         \n",
            " )                                                               \n",
            "                                                                 \n",
            " conv2d_1 (Conv2D)           (None, 31, 31, 32)        9248      \n",
            "                                                                 \n",
            " max_pooling2d_1 (MaxPooling  (None, 15, 15, 32)       0         \n",
            " 2D)                                                             \n",
            "                                                                 \n",
            " conv2d_2 (Conv2D)           (None, 15, 15, 32)        9248      \n",
            "                                                                 \n",
            " max_pooling2d_2 (MaxPooling  (None, 7, 7, 32)         0         \n",
            " 2D)                                                             \n",
            "                                                                 \n",
            " conv2d_3 (Conv2D)           (None, 7, 7, 32)          9248      \n",
            "                                                                 \n",
            " max_pooling2d_3 (MaxPooling  (None, 3, 3, 32)         0         \n",
            " 2D)                                                             \n",
            "                                                                 \n",
            " conv2d_4 (Conv2D)           (None, 3, 3, 32)          9248      \n",
            "                                                                 \n",
            " max_pooling2d_4 (MaxPooling  (None, 1, 1, 32)         0         \n",
            " 2D)                                                             \n",
            "                                                                 \n",
            " global_average_pooling2d (G  (None, 32)               0         \n",
            " lobalAveragePooling2D)                                          \n",
            "                                                                 \n",
            " dropout (Dropout)           (None, 32)                0         \n",
            "                                                                 \n",
            " flatten (Flatten)           (None, 32)                0         \n",
            "                                                                 \n",
            " dense (Dense)               (None, 64)                2112      \n",
            "                                                                 \n",
            " dropout_1 (Dropout)         (None, 64)                0         \n",
            "                                                                 \n",
            " dense_1 (Dense)             (None, 1)                 65        \n",
            "                                                                 \n",
            "=================================================================\n",
            "Total params: 39,489\n",
            "Trainable params: 39,489\n",
            "Non-trainable params: 0\n",
            "_________________________________________________________________\n"
          ]
        }
      ]
    },
    {
      "cell_type": "code",
      "source": [
        "# Zipping the model\n",
        "!zip -r /content/Team_NOLT_Model_Trained.zip /content/Team_NOLT_Model_Trained"
      ],
      "metadata": {
        "id": "R26LbMHq3aGG",
        "outputId": "ea2568b2-dccd-425b-fc64-e06db8c3a7a2",
        "colab": {
          "base_uri": "https://localhost:8080/"
        }
      },
      "execution_count": 17,
      "outputs": [
        {
          "output_type": "stream",
          "name": "stdout",
          "text": [
            "updating: content/Team_NOLT_Model_Trained/ (stored 0%)\n",
            "updating: content/Team_NOLT_Model_Trained/assets/ (stored 0%)\n",
            "updating: content/Team_NOLT_Model_Trained/saved_model.pb (deflated 89%)\n",
            "updating: content/Team_NOLT_Model_Trained/variables/ (stored 0%)\n",
            "updating: content/Team_NOLT_Model_Trained/variables/variables.data-00000-of-00001 (deflated 13%)\n",
            "updating: content/Team_NOLT_Model_Trained/variables/variables.index (deflated 68%)\n",
            "updating: content/Team_NOLT_Model_Trained/keras_metadata.pb (deflated 93%)\n",
            "updating: content/Team_NOLT_Model_Trained/fingerprint.pb (stored 0%)\n"
          ]
        }
      ]
    },
    {
      "cell_type": "code",
      "source": [
        "# Link to GitHub:\n",
        "# https://github.com/mikosa01/TEAMNOLT\n",
        "# Link to Colab: \n",
        "# https://colab.research.google.com/github/mikosa01/TEAMNOLT/blob/main/group_work.ipynb"
      ],
      "metadata": {
        "id": "uS8Sy5DSnelE"
      },
      "execution_count": 17,
      "outputs": []
    }
  ]
}