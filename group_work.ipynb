{
  "nbformat": 4,
  "nbformat_minor": 0,
  "metadata": {
    "colab": {
      "provenance": [],
      "gpuType": "T4",
      "include_colab_link": true
    },
    "kernelspec": {
      "name": "python3",
      "display_name": "Python 3"
    },
    "language_info": {
      "name": "python"
    },
    "accelerator": "GPU",
    "gpuClass": "standard"
  },
  "cells": [
    {
      "cell_type": "markdown",
      "metadata": {
        "id": "view-in-github",
        "colab_type": "text"
      },
      "source": [
        "<a href=\"https://colab.research.google.com/github/mikosa01/TEAMNOLT/blob/main/group_work.ipynb\" target=\"_parent\"><img src=\"https://colab.research.google.com/assets/colab-badge.svg\" alt=\"Open In Colab\"/></a>"
      ]
    },
    {
      "cell_type": "code",
      "execution_count": 51,
      "metadata": {
        "id": "v6AX6CxhnGNC"
      },
      "outputs": [],
      "source": [
        "# Code to read csv file into colaboratory:\n",
        "!pip install -U -q PyDrive\n",
        "from pydrive.auth import GoogleAuth\n",
        "from pydrive.drive import GoogleDrive\n",
        "from google.colab import auth\n",
        "from oauth2client.client import GoogleCredentials\n",
        "import numpy as np \n",
        "from pathlib import Path\n",
        "import sys \n",
        "import tensorflow as tf\n",
        "import pandas as pd \n",
        "import matplotlib.pyplot  as plt \n",
        "import zipfile\n",
        "import numpy as np\n",
        "import matplotlib.pyplot as plt\n",
        "import os\n",
        "#from sklearn.metrics import confusion_matrix, classification_report\n",
        "auth.authenticate_user()\n",
        "gauth = GoogleAuth()\n",
        "gauth.credentials = GoogleCredentials.get_application_default()\n",
        "drive = GoogleDrive(gauth)\n",
        "downloaded = drive.CreateFile({'id':'1c06v0ViaOvssxGV14zbggB72NcvFR6AE'})\n",
        "downloaded.GetContentFile('Group_Project_Data.zip')"
      ]
    },
    {
      "cell_type": "code",
      "source": [
        "import tensorflow as tf\n",
        "from tensorflow.keras.preprocessing.image import ImageDataGenerator"
      ],
      "metadata": {
        "id": "phLndkndofRh"
      },
      "execution_count": 52,
      "outputs": []
    },
    {
      "cell_type": "code",
      "source": [
        "zip_files = ['Train', 'Valid']\n",
        "for zip_file in zip_files:\n",
        "  with zipfile.ZipFile('Group_Project_Data.zip'.format(zip_file), 'r') as z: \n",
        "    z.extractall('.')\n",
        "    print('{} unzipped'.format(zip_file))"
      ],
      "metadata": {
        "colab": {
          "base_uri": "https://localhost:8080/"
        },
        "id": "h0hT2VSIoico",
        "outputId": "f0a39355-38df-4e6f-f4d0-74998e8d81f0"
      },
      "execution_count": 53,
      "outputs": [
        {
          "output_type": "stream",
          "name": "stdout",
          "text": [
            "Train unzipped\n",
            "Valid unzipped\n"
          ]
        }
      ]
    },
    {
      "cell_type": "code",
      "source": [
        "train_dir =  '/content/Group_Project_Data/Train'\n",
        "val_dir =  '/content/Group_Project_Data/Valid'"
      ],
      "metadata": {
        "id": "3KJZpJ-0oqe_"
      },
      "execution_count": 54,
      "outputs": []
    },
    {
      "cell_type": "code",
      "source": [
        "train_datagen = ImageDataGenerator(rescale=1./255)  # rescale pixel values to [0, 1]\n",
        "val_datagen = ImageDataGenerator(rescale=1./255)"
      ],
      "metadata": {
        "id": "fppaIWrUo6Y4"
      },
      "execution_count": 55,
      "outputs": []
    },
    {
      "cell_type": "code",
      "source": [
        "train_generator = train_datagen.flow_from_directory(\n",
        "    train_dir,\n",
        "    target_size=(64, 64),  \n",
        "    batch_size=32,\n",
        "    color_mode='grayscale',\n",
        "    class_mode='binary'  \n",
        ")\n",
        "\n",
        "val_generator = val_datagen.flow_from_directory(\n",
        "    val_dir,\n",
        "    target_size=(64, 64),\n",
        "    batch_size=32,\n",
        "    color_mode='grayscale',\n",
        "    class_mode='binary'\n",
        ")"
      ],
      "metadata": {
        "colab": {
          "base_uri": "https://localhost:8080/"
        },
        "id": "ZoflGdH0pCFQ",
        "outputId": "a729321c-fc4d-4964-b18c-d7b6a64c059a"
      },
      "execution_count": 56,
      "outputs": [
        {
          "output_type": "stream",
          "name": "stdout",
          "text": [
            "Found 6000 images belonging to 2 classes.\n",
            "Found 2000 images belonging to 2 classes.\n"
          ]
        }
      ]
    },
    {
      "cell_type": "code",
      "source": [
        "from keras import regularizers\n",
        "\n",
        "\n",
        "model = tf.keras.models.Sequential([\n",
        "    tf.keras.layers.Conv2D(32, (3, 3), activation='relu', padding = 'valid', kernel_initializer='he_normal',  input_shape=(64, 64, 1)),\n",
        "    tf.keras.layers.MaxPooling2D((2, 2)),\n",
        "    tf.keras.layers.Conv2D(32, (3, 3), activation='relu', padding = 'same',kernel_regularizer=regularizers.l2(l=0.01)), \n",
        "    tf.keras.layers.MaxPooling2D((2, 2), ),\n",
        "    tf.keras.layers.Conv2D(32, (3, 3), activation='relu', padding = 'same',kernel_regularizer=regularizers.l2(l=0.01)), \n",
        "    tf.keras.layers.MaxPooling2D((2, 2)),\n",
        "    tf.keras.layers.Conv2D(32, (3, 3), activation='relu', padding = 'same', kernel_regularizer=regularizers.l2(l=0.01)), \n",
        "    tf.keras.layers.MaxPooling2D((2, 2)),\n",
        "    tf.keras.layers.Conv2D(32, (3, 3), activation='relu', padding = 'same', kernel_regularizer=regularizers.l2(l=0.01)), \n",
        "    tf.keras.layers.MaxPooling2D((2, 2)),\n",
        "    tf.keras.layers.GlobalAveragePooling2D(),\n",
        "    tf.keras.layers.Dropout(0.4),  \n",
        "    tf.keras.layers.Flatten(),\n",
        "    tf.keras.layers.Dense(64, activation='relu'),\n",
        "    tf.keras.layers.Dropout(0.2),\n",
        "    tf.keras.layers.Dense(1, activation='sigmoid')\n",
        "])\n"
      ],
      "metadata": {
        "id": "MdSAjwKKpN9M"
      },
      "execution_count": 66,
      "outputs": []
    },
    {
      "cell_type": "code",
      "source": [
        "model.compile(optimizer='adam',\n",
        "              loss='binary_crossentropy',\n",
        "              metrics=['accuracy'])"
      ],
      "metadata": {
        "id": "SAwS4HFEpe1t"
      },
      "execution_count": 67,
      "outputs": []
    },
    {
      "cell_type": "code",
      "source": [
        "early_stopping = tf.keras.callbacks.EarlyStopping(patience = 2)"
      ],
      "metadata": {
        "id": "sAdJW5Ed0w4K"
      },
      "execution_count": 68,
      "outputs": []
    },
    {
      "cell_type": "code",
      "source": [
        "history= model.fit(train_generator, epochs=10, validation_data=val_generator, verbose = 2, callbacks = [early_stopping])"
      ],
      "metadata": {
        "colab": {
          "base_uri": "https://localhost:8080/"
        },
        "id": "MznaNbM9pfpp",
        "outputId": "b851a40d-8b6f-4137-83bc-ad87b779b958"
      },
      "execution_count": 69,
      "outputs": [
        {
          "output_type": "stream",
          "name": "stdout",
          "text": [
            "Epoch 1/10\n",
            "188/188 - 7s - loss: 0.7913 - accuracy: 0.7128 - val_loss: 0.1461 - val_accuracy: 0.9955 - 7s/epoch - 36ms/step\n",
            "Epoch 2/10\n",
            "188/188 - 5s - loss: 0.1468 - accuracy: 0.9900 - val_loss: 0.0983 - val_accuracy: 0.9970 - 5s/epoch - 26ms/step\n",
            "Epoch 3/10\n",
            "188/188 - 4s - loss: 0.1006 - accuracy: 0.9950 - val_loss: 0.1211 - val_accuracy: 0.9820 - 4s/epoch - 21ms/step\n",
            "Epoch 4/10\n",
            "188/188 - 4s - loss: 0.0968 - accuracy: 0.9905 - val_loss: 0.0967 - val_accuracy: 0.9945 - 4s/epoch - 21ms/step\n",
            "Epoch 5/10\n",
            "188/188 - 5s - loss: 0.0770 - accuracy: 0.9965 - val_loss: 0.0593 - val_accuracy: 0.9980 - 5s/epoch - 26ms/step\n",
            "Epoch 6/10\n",
            "188/188 - 4s - loss: 0.0645 - accuracy: 0.9963 - val_loss: 0.0510 - val_accuracy: 0.9990 - 4s/epoch - 21ms/step\n",
            "Epoch 7/10\n",
            "188/188 - 4s - loss: 0.0607 - accuracy: 0.9960 - val_loss: 0.1515 - val_accuracy: 0.9710 - 4s/epoch - 21ms/step\n",
            "Epoch 8/10\n",
            "188/188 - 5s - loss: 0.0550 - accuracy: 0.9973 - val_loss: 0.0485 - val_accuracy: 0.9965 - 5s/epoch - 26ms/step\n",
            "Epoch 9/10\n",
            "188/188 - 4s - loss: 0.0455 - accuracy: 0.9980 - val_loss: 0.0459 - val_accuracy: 0.9980 - 4s/epoch - 23ms/step\n",
            "Epoch 10/10\n",
            "188/188 - 4s - loss: 0.0476 - accuracy: 0.9972 - val_loss: 0.0404 - val_accuracy: 0.9985 - 4s/epoch - 21ms/step\n"
          ]
        }
      ]
    },
    {
      "cell_type": "code",
      "source": [
        "plt.plot(history.history['accuracy'])\n",
        "plt.plot(history.history['val_accuracy'])\n",
        "plt.title('Model accuracy')\n",
        "plt.ylabel('Accuracy')\n",
        "plt.xlabel('Epoch')\n",
        "plt.legend(['Train', 'Validation'], loc='upper left')\n",
        "plt.show()"
      ],
      "metadata": {
        "id": "iXkCnwIKpjG2",
        "colab": {
          "base_uri": "https://localhost:8080/",
          "height": 472
        },
        "outputId": "4c999ceb-ea16-4305-bce7-4d9366efd894"
      },
      "execution_count": 61,
      "outputs": [
        {
          "output_type": "display_data",
          "data": {
            "text/plain": [
              "<Figure size 640x480 with 1 Axes>"
            ],
            "image/png": "[encoded data removed]"
          },
          "metadata": {}
        }
      ]
    },
    {
      "cell_type": "code",
      "source": [
        "plt.plot(history.history['loss'])\n",
        "plt.plot(history.history['val_loss'])\n",
        "plt.title('Model loss')\n",
        "plt.ylabel('Loss')\n",
        "plt.xlabel('Epoch')\n",
        "plt.legend(['Train', 'Validation'], loc='upper left')\n",
        "plt.show()"
      ],
      "metadata": {
        "colab": {
          "base_uri": "https://localhost:8080/",
          "height": 472
        },
        "id": "jh7j4_F0Vaha",
        "outputId": "89b46f0d-a120-4205-ddc7-97fe4fd85779"
      },
      "execution_count": 62,
      "outputs": [
        {
          "output_type": "display_data",
          "data": {
            "text/plain": [
              "<Figure size 640x480 with 1 Axes>"
            ],
            "image/png": "[encoded data removed]"
          },
          "metadata": {}
        }
      ]
    },
    {
      "cell_type": "code",
      "source": [
        "# Saving your model\n",
        "\n",
        "model.save('/content/Team_NOLT_Model_Trained')"
      ],
      "metadata": {
        "colab": {
          "base_uri": "https://localhost:8080/"
        },
        "id": "S5zEDf2Rl2pQ",
        "outputId": "9c9b9e7b-fbc7-44c4-883f-736f64844521"
      },
      "execution_count": 70,
      "outputs": [
        {
          "output_type": "stream",
          "name": "stderr",
          "text": [
            "WARNING:absl:Found untraced functions such as _jit_compiled_convolution_op, _jit_compiled_convolution_op, _jit_compiled_convolution_op, _jit_compiled_convolution_op, _jit_compiled_convolution_op while saving (showing 5 of 5). These functions will not be directly callable after loading.\n"
          ]
        }
      ]
    },
    {
      "cell_type": "code",
      "source": [
        "# Test saved model\n",
        "\n",
        "loaded_model = tf.keras.models.load_model('/content/Team_NOLT_Model_Trained')\n",
        "loaded_model.summary()"
      ],
      "metadata": {
        "id": "mpsUYRY23Ipp",
        "outputId": "b9704699-33b8-4ff4-d64a-11f9b5c2d590",
        "colab": {
          "base_uri": "https://localhost:8080/"
        }
      },
      "execution_count": 71,
      "outputs": [
        {
          "output_type": "stream",
          "name": "stdout",
          "text": [
            "Model: \"sequential_6\"\n",
            "_________________________________________________________________\n",
            " Layer (type)                Output Shape              Param #   \n",
            "=================================================================\n",
            " conv2d_28 (Conv2D)          (None, 62, 62, 32)        320       \n",
            "                                                                 \n",
            " max_pooling2d_28 (MaxPoolin  (None, 31, 31, 32)       0         \n",
            " g2D)                                                            \n",
            "                                                                 \n",
            " conv2d_29 (Conv2D)          (None, 31, 31, 32)        9248      \n",
            "                                                                 \n",
            " max_pooling2d_29 (MaxPoolin  (None, 15, 15, 32)       0         \n",
            " g2D)                                                            \n",
            "                                                                 \n",
            " conv2d_30 (Conv2D)          (None, 15, 15, 32)        9248      \n",
            "                                                                 \n",
            " max_pooling2d_30 (MaxPoolin  (None, 7, 7, 32)         0         \n",
            " g2D)                                                            \n",
            "                                                                 \n",
            " conv2d_31 (Conv2D)          (None, 7, 7, 32)          9248      \n",
            "                                                                 \n",
            " max_pooling2d_31 (MaxPoolin  (None, 3, 3, 32)         0         \n",
            " g2D)                                                            \n",
            "                                                                 \n",
            " conv2d_32 (Conv2D)          (None, 3, 3, 32)          9248      \n",
            "                                                                 \n",
            " max_pooling2d_32 (MaxPoolin  (None, 1, 1, 32)         0         \n",
            " g2D)                                                            \n",
            "                                                                 \n",
            " global_average_pooling2d_2   (None, 32)               0         \n",
            " (GlobalAveragePooling2D)                                        \n",
            "                                                                 \n",
            " dropout_11 (Dropout)        (None, 32)                0         \n",
            "                                                                 \n",
            " flatten_6 (Flatten)         (None, 32)                0         \n",
            "                                                                 \n",
            " dense_12 (Dense)            (None, 64)                2112      \n",
            "                                                                 \n",
            " dropout_12 (Dropout)        (None, 64)                0         \n",
            "                                                                 \n",
            " dense_13 (Dense)            (None, 1)                 65        \n",
            "                                                                 \n",
            "=================================================================\n",
            "Total params: 39,489\n",
            "Trainable params: 39,489\n",
            "Non-trainable params: 0\n",
            "_________________________________________________________________\n"
          ]
        }
      ]
    },
    {
      "cell_type": "code",
      "source": [
        "# zip the model\n",
        "!zip -r /content/Team_NOLT_Model_Trained.zip /content/Team_NOLT_Model_Trained"
      ],
      "metadata": {
        "id": "R26LbMHq3aGG",
        "outputId": "cc9e13fa-ace9-4a56-b4dc-993fe691f091",
        "colab": {
          "base_uri": "https://localhost:8080/"
        }
      },
      "execution_count": 72,
      "outputs": [
        {
          "output_type": "stream",
          "name": "stdout",
          "text": [
            "  adding: content/Team_NOLT_Model_Trained/ (stored 0%)\n",
            "  adding: content/Team_NOLT_Model_Trained/assets/ (stored 0%)\n",
            "  adding: content/Team_NOLT_Model_Trained/saved_model.pb (deflated 90%)\n",
            "  adding: content/Team_NOLT_Model_Trained/variables/ (stored 0%)\n",
            "  adding: content/Team_NOLT_Model_Trained/variables/variables.data-00000-of-00001 (deflated 14%)\n",
            "  adding: content/Team_NOLT_Model_Trained/variables/variables.index (deflated 68%)\n",
            "  adding: content/Team_NOLT_Model_Trained/keras_metadata.pb (deflated 93%)\n",
            "  adding: content/Team_NOLT_Model_Trained/fingerprint.pb (stored 0%)\n"
          ]
        }
      ]
    }
  ]
}